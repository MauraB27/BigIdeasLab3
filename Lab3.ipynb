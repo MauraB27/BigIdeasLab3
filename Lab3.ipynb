{
 "cells": [
  {
   "cell_type": "code",
   "execution_count": null,
   "id": "1c6b53b1-81e4-4172-9384-b49720cfe6e1",
   "metadata": {},
   "outputs": [],
   "source": [
    "#This is a new notebook by Maura, Manal, and Brendan\n"
   ]
  },
  {
   "cell_type": "code",
   "execution_count": 1,
   "id": "3b6154f9-7f10-4d00-89c6-513024858041",
   "metadata": {},
   "outputs": [
    {
     "name": "stdin",
     "output_type": "stream",
     "text": [
      "Please enter your username:  Maura\n",
      "Please enter the correct password. Must be a number:  57\n"
     ]
    },
    {
     "name": "stdout",
     "output_type": "stream",
     "text": [
      "Maura\n"
     ]
    }
   ],
   "source": [
    "UserName = input(\"Please enter your username: \")\n",
    "Password = input(\"Please enter the correct password. Must be a number: \")\n",
    "print(UserName)\n",
    "if Password == 56:\n",
    "    print(\"Access granted\")\n",
    "    "
   ]
  },
  {
   "cell_type": "code",
   "execution_count": null,
   "id": "f346fbdf-892a-410e-9c35-426a482d44cb",
   "metadata": {},
   "outputs": [],
   "source": []
  }
 ],
 "metadata": {
  "kernelspec": {
   "display_name": "Python 3 (ipykernel)",
   "language": "python",
   "name": "python3"
  },
  "language_info": {
   "codemirror_mode": {
    "name": "ipython",
    "version": 3
   },
   "file_extension": ".py",
   "mimetype": "text/x-python",
   "name": "python",
   "nbconvert_exporter": "python",
   "pygments_lexer": "ipython3",
   "version": "3.11.5"
  }
 },
 "nbformat": 4,
 "nbformat_minor": 5
}
